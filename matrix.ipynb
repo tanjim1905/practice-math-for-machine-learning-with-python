{
 "cells": [
  {
   "cell_type": "code",
   "execution_count": 30,
   "metadata": {},
   "outputs": [],
   "source": [
    "import numpy as np"
   ]
  },
  {
   "cell_type": "markdown",
   "metadata": {},
   "source": [
    "# Create a Matrix using Python"
   ]
  },
  {
   "cell_type": "code",
   "execution_count": 39,
   "metadata": {},
   "outputs": [
    {
     "name": "stdout",
     "output_type": "stream",
     "text": [
      "[[1 2 3]\n",
      " [4 5 6]]\n"
     ]
    }
   ],
   "source": [
    "matrix = np.array([[1,2,3], [4,5,6]])\n",
    "print(matrix)"
   ]
  },
  {
   "cell_type": "code",
   "execution_count": 40,
   "metadata": {},
   "outputs": [
    {
     "data": {
      "text/plain": [
       "array([[90, 52, 92,  8,  6],\n",
       "       [56, 85, 32, 51, 82],\n",
       "       [77, 11, 50, 62, 63],\n",
       "       [54, 22, 27, 38, 48],\n",
       "       [29, 82, 10, 41, 10]])"
      ]
     },
     "execution_count": 40,
     "metadata": {},
     "output_type": "execute_result"
    }
   ],
   "source": [
    "# Matrix with random value\n",
    "rand_matrix = np.random.randint(100, size=(5,5))\n",
    "rand_matrix"
   ]
  },
  {
   "cell_type": "code",
   "execution_count": 33,
   "metadata": {},
   "outputs": [
    {
     "data": {
      "text/plain": [
       "array([[0, 0, 0, 0, 0],\n",
       "       [0, 0, 0, 0, 0],\n",
       "       [0, 0, 0, 0, 0],\n",
       "       [0, 0, 0, 0, 0],\n",
       "       [0, 0, 0, 0, 0]])"
      ]
     },
     "execution_count": 33,
     "metadata": {},
     "output_type": "execute_result"
    }
   ],
   "source": [
    "# Zero Matrix\n",
    "\n",
    "zero_matrix = np.zeros([5,5], dtype='int')\n",
    "zero_matrix"
   ]
  },
  {
   "cell_type": "code",
   "execution_count": 41,
   "metadata": {},
   "outputs": [
    {
     "data": {
      "text/plain": [
       "array([[1, 1, 1, 1, 1],\n",
       "       [1, 1, 1, 1, 1],\n",
       "       [1, 1, 1, 1, 1],\n",
       "       [1, 1, 1, 1, 1],\n",
       "       [1, 1, 1, 1, 1]])"
      ]
     },
     "execution_count": 41,
     "metadata": {},
     "output_type": "execute_result"
    }
   ],
   "source": [
    "# One Matrix\n",
    "\n",
    "one_matrix = np.ones([5,5], dtype='int')\n",
    "one_matrix"
   ]
  },
  {
   "cell_type": "code",
   "execution_count": 42,
   "metadata": {},
   "outputs": [
    {
     "data": {
      "text/plain": [
       "array([[1, 0, 0, 0, 0],\n",
       "       [0, 1, 0, 0, 0],\n",
       "       [0, 0, 1, 0, 0],\n",
       "       [0, 0, 0, 1, 0],\n",
       "       [0, 0, 0, 0, 1]])"
      ]
     },
     "execution_count": 42,
     "metadata": {},
     "output_type": "execute_result"
    }
   ],
   "source": [
    "# Identity Matrix\n",
    "\n",
    "identity_matrix = np.eye(5,5, dtype='int')\n",
    "identity_matrix"
   ]
  },
  {
   "cell_type": "code",
   "execution_count": 43,
   "metadata": {},
   "outputs": [
    {
     "data": {
      "text/plain": [
       "array([[1, 4, 7],\n",
       "       [2, 5, 8],\n",
       "       [3, 6, 9]])"
      ]
     },
     "execution_count": 43,
     "metadata": {},
     "output_type": "execute_result"
    }
   ],
   "source": [
    "# Transpose Matrix\n",
    "\n",
    "matrix_t = np.array([[1,2,3], [4,5,6], [7,8,9]])\n",
    "transpose_matrix = matrix_t.T\n",
    "\n",
    "transpose_matrix"
   ]
  },
  {
   "cell_type": "markdown",
   "metadata": {},
   "source": [
    "## Matrix operation in Python"
   ]
  },
  {
   "cell_type": "code",
   "execution_count": 44,
   "metadata": {},
   "outputs": [
    {
     "name": "stdout",
     "output_type": "stream",
     "text": [
      "[[ 3  5  7]\n",
      " [ 9 11 13]]\n",
      "[[ 3  5  7]\n",
      " [ 9 11 13]]\n"
     ]
    }
   ],
   "source": [
    "# Matrix addition\n",
    "\n",
    "# Type One\n",
    "matrix1 = np.array([[1,2,3], [4,5,6]])\n",
    "matrix2 = np.array([[2,3,4], [5,6,7]])\n",
    "\n",
    "matrix_addition = matrix1 + matrix2\n",
    "print(matrix_addition)\n",
    "\n",
    "# Type Two\n",
    "\n",
    "matrix_add = np.add(matrix1, matrix2)\n",
    "print(matrix_add)"
   ]
  },
  {
   "cell_type": "code",
   "execution_count": 47,
   "metadata": {},
   "outputs": [
    {
     "name": "stdout",
     "output_type": "stream",
     "text": [
      "[[-1 -1 -1]\n",
      " [-1 -1 -1]]\n",
      "[[ 3  5  7]\n",
      " [ 9 11 13]]\n"
     ]
    }
   ],
   "source": [
    "# Matrix Subtraction\n",
    "\n",
    "# Type One\n",
    "matrix_subtraction = matrix1 - matrix2\n",
    "print(matrix_subtraction)\n",
    "\n",
    "# Type Two\n",
    "matrix_sub = np.subtract(matrix1, matrix2)\n",
    "print(matrix_add)"
   ]
  }
 ],
 "metadata": {
  "kernelspec": {
   "display_name": "base",
   "language": "python",
   "name": "python3"
  },
  "language_info": {
   "codemirror_mode": {
    "name": "ipython",
    "version": 3
   },
   "file_extension": ".py",
   "mimetype": "text/x-python",
   "name": "python",
   "nbconvert_exporter": "python",
   "pygments_lexer": "ipython3",
   "version": "3.12.4"
  }
 },
 "nbformat": 4,
 "nbformat_minor": 2
}
